{
 "cells": [
  {
   "cell_type": "code",
   "execution_count": 3,
   "id": "312c8ae9-d8f6-4b2f-b95b-30d255cad242",
   "metadata": {},
   "outputs": [],
   "source": [
    "import pandas as pd\n",
    "\n",
    "df = pd.read_csv(\"data/dnd_chars_all.tsv\", sep=\"\\t\")"
   ]
  },
  {
   "cell_type": "code",
   "execution_count": 4,
   "id": "b8488b9e",
   "metadata": {},
   "outputs": [],
   "source": [
    "df.drop(columns=[\"ip\", \"finger\", \"hash\"], inplace=True)"
   ]
  },
  {
   "cell_type": "code",
   "execution_count": null,
   "id": "13eb1f7d-41c9-4458-b767-54159a03aceb",
   "metadata": {},
   "outputs": [
    {
     "data": {
      "text/plain": [
       "0        10\n",
       "1        10\n",
       "2        21\n",
       "3        16\n",
       "4        16\n",
       "         ..\n",
       "10889    13\n",
       "10890    16\n",
       "10891    19\n",
       "10892    14\n",
       "10893    13\n",
       "Name: AC, Length: 10894, dtype: int64"
      ]
     },
     "execution_count": 114,
     "metadata": {},
     "output_type": "execute_result"
    }
   ],
   "source": [
    "df.head()\n",
    "df.columns"
   ]
  },
  {
   "cell_type": "code",
   "execution_count": 5,
   "id": "4bccd762",
   "metadata": {},
   "outputs": [
    {
     "data": {
      "text/html": [
       "<div>\n",
       "<style scoped>\n",
       "    .dataframe tbody tr th:only-of-type {\n",
       "        vertical-align: middle;\n",
       "    }\n",
       "\n",
       "    .dataframe tbody tr th {\n",
       "        vertical-align: top;\n",
       "    }\n",
       "\n",
       "    .dataframe thead th {\n",
       "        text-align: right;\n",
       "    }\n",
       "</style>\n",
       "<table border=\"1\" class=\"dataframe\">\n",
       "  <thead>\n",
       "    <tr style=\"text-align: right;\">\n",
       "      <th></th>\n",
       "      <th>name</th>\n",
       "      <th>race</th>\n",
       "      <th>background</th>\n",
       "      <th>date</th>\n",
       "      <th>class</th>\n",
       "      <th>justClass</th>\n",
       "      <th>subclass</th>\n",
       "      <th>level</th>\n",
       "      <th>feats</th>\n",
       "      <th>HP</th>\n",
       "      <th>...</th>\n",
       "      <th>good</th>\n",
       "      <th>lawful</th>\n",
       "      <th>processedRace</th>\n",
       "      <th>processedSpells</th>\n",
       "      <th>processedWeapons</th>\n",
       "      <th>alias</th>\n",
       "      <th>justClass_expanded</th>\n",
       "      <th>normalized_race</th>\n",
       "      <th>normalized_class</th>\n",
       "      <th>normalized_background</th>\n",
       "    </tr>\n",
       "  </thead>\n",
       "  <tbody>\n",
       "    <tr>\n",
       "      <th>0</th>\n",
       "      <td>ee1e382c</td>\n",
       "      <td>Hill Dwarf</td>\n",
       "      <td>Guild Member - Justice</td>\n",
       "      <td>2022-08-23T20:02:11Z</td>\n",
       "      <td>Sorcerer 13|Cleric 1</td>\n",
       "      <td>Sorcerer|Cleric</td>\n",
       "      <td>Clockwork Soul|Order Domain</td>\n",
       "      <td>14</td>\n",
       "      <td>Fey Touched|War Caster|Metamagic Adept</td>\n",
       "      <td>146</td>\n",
       "      <td>...</td>\n",
       "      <td>NaN</td>\n",
       "      <td>NaN</td>\n",
       "      <td>Dwarf</td>\n",
       "      <td>Alarm*1|Protection from Evil and Good*1|Comman...</td>\n",
       "      <td>Crossbow, Light|Dagger</td>\n",
       "      <td>thirsty_davinci</td>\n",
       "      <td>Sorcerer</td>\n",
       "      <td>dwarf</td>\n",
       "      <td>sorcerer</td>\n",
       "      <td>guild member - justice</td>\n",
       "    </tr>\n",
       "    <tr>\n",
       "      <th>0</th>\n",
       "      <td>ee1e382c</td>\n",
       "      <td>Hill Dwarf</td>\n",
       "      <td>Guild Member - Justice</td>\n",
       "      <td>2022-08-23T20:02:11Z</td>\n",
       "      <td>Sorcerer 13|Cleric 1</td>\n",
       "      <td>Sorcerer|Cleric</td>\n",
       "      <td>Clockwork Soul|Order Domain</td>\n",
       "      <td>14</td>\n",
       "      <td>Fey Touched|War Caster|Metamagic Adept</td>\n",
       "      <td>146</td>\n",
       "      <td>...</td>\n",
       "      <td>NaN</td>\n",
       "      <td>NaN</td>\n",
       "      <td>Dwarf</td>\n",
       "      <td>Alarm*1|Protection from Evil and Good*1|Comman...</td>\n",
       "      <td>Crossbow, Light|Dagger</td>\n",
       "      <td>thirsty_davinci</td>\n",
       "      <td>Cleric</td>\n",
       "      <td>dwarf</td>\n",
       "      <td>cleric</td>\n",
       "      <td>guild member - justice</td>\n",
       "    </tr>\n",
       "    <tr>\n",
       "      <th>1</th>\n",
       "      <td>ee1e382c</td>\n",
       "      <td>Hill Dwarf</td>\n",
       "      <td>Guild Member - Justice</td>\n",
       "      <td>2022-08-23T19:43:25Z</td>\n",
       "      <td>Sorcerer 13|Cleric 1</td>\n",
       "      <td>Sorcerer|Cleric</td>\n",
       "      <td>Clockwork Soul|Order Domain</td>\n",
       "      <td>14</td>\n",
       "      <td>NaN</td>\n",
       "      <td>133</td>\n",
       "      <td>...</td>\n",
       "      <td>NaN</td>\n",
       "      <td>NaN</td>\n",
       "      <td>Dwarf</td>\n",
       "      <td>Alarm*1|Protection from Evil and Good*1|Comman...</td>\n",
       "      <td>Crossbow, Light|Dagger</td>\n",
       "      <td>thirsty_davinci</td>\n",
       "      <td>Sorcerer</td>\n",
       "      <td>dwarf</td>\n",
       "      <td>sorcerer</td>\n",
       "      <td>guild member - justice</td>\n",
       "    </tr>\n",
       "    <tr>\n",
       "      <th>1</th>\n",
       "      <td>ee1e382c</td>\n",
       "      <td>Hill Dwarf</td>\n",
       "      <td>Guild Member - Justice</td>\n",
       "      <td>2022-08-23T19:43:25Z</td>\n",
       "      <td>Sorcerer 13|Cleric 1</td>\n",
       "      <td>Sorcerer|Cleric</td>\n",
       "      <td>Clockwork Soul|Order Domain</td>\n",
       "      <td>14</td>\n",
       "      <td>NaN</td>\n",
       "      <td>133</td>\n",
       "      <td>...</td>\n",
       "      <td>NaN</td>\n",
       "      <td>NaN</td>\n",
       "      <td>Dwarf</td>\n",
       "      <td>Alarm*1|Protection from Evil and Good*1|Comman...</td>\n",
       "      <td>Crossbow, Light|Dagger</td>\n",
       "      <td>thirsty_davinci</td>\n",
       "      <td>Cleric</td>\n",
       "      <td>dwarf</td>\n",
       "      <td>cleric</td>\n",
       "      <td>guild member - justice</td>\n",
       "    </tr>\n",
       "    <tr>\n",
       "      <th>2</th>\n",
       "      <td>f1f6ff43</td>\n",
       "      <td>Human</td>\n",
       "      <td>Noble</td>\n",
       "      <td>2022-08-22T14:57:09Z</td>\n",
       "      <td>Fighter 13</td>\n",
       "      <td>Fighter</td>\n",
       "      <td>Eldritch Knight</td>\n",
       "      <td>13</td>\n",
       "      <td>Heavy Armor Master</td>\n",
       "      <td>140</td>\n",
       "      <td>...</td>\n",
       "      <td>NaN</td>\n",
       "      <td>NaN</td>\n",
       "      <td>Human</td>\n",
       "      <td>Prestidigitation*0|Mage Hand*0|Blade Ward*0|Li...</td>\n",
       "      <td>Longsword|Dagger|Crossbow, Light|Mace</td>\n",
       "      <td>cool_bhabha</td>\n",
       "      <td>Fighter</td>\n",
       "      <td>human</td>\n",
       "      <td>fighter</td>\n",
       "      <td>noble</td>\n",
       "    </tr>\n",
       "  </tbody>\n",
       "</table>\n",
       "<p>5 rows × 36 columns</p>\n",
       "</div>"
      ],
      "text/plain": [
       "       name        race              background                  date  \\\n",
       "0  ee1e382c  Hill Dwarf  Guild Member - Justice  2022-08-23T20:02:11Z   \n",
       "0  ee1e382c  Hill Dwarf  Guild Member - Justice  2022-08-23T20:02:11Z   \n",
       "1  ee1e382c  Hill Dwarf  Guild Member - Justice  2022-08-23T19:43:25Z   \n",
       "1  ee1e382c  Hill Dwarf  Guild Member - Justice  2022-08-23T19:43:25Z   \n",
       "2  f1f6ff43       Human                   Noble  2022-08-22T14:57:09Z   \n",
       "\n",
       "                  class        justClass                     subclass  level  \\\n",
       "0  Sorcerer 13|Cleric 1  Sorcerer|Cleric  Clockwork Soul|Order Domain     14   \n",
       "0  Sorcerer 13|Cleric 1  Sorcerer|Cleric  Clockwork Soul|Order Domain     14   \n",
       "1  Sorcerer 13|Cleric 1  Sorcerer|Cleric  Clockwork Soul|Order Domain     14   \n",
       "1  Sorcerer 13|Cleric 1  Sorcerer|Cleric  Clockwork Soul|Order Domain     14   \n",
       "2            Fighter 13          Fighter              Eldritch Knight     13   \n",
       "\n",
       "                                    feats   HP  ...  good  lawful  \\\n",
       "0  Fey Touched|War Caster|Metamagic Adept  146  ...   NaN     NaN   \n",
       "0  Fey Touched|War Caster|Metamagic Adept  146  ...   NaN     NaN   \n",
       "1                                     NaN  133  ...   NaN     NaN   \n",
       "1                                     NaN  133  ...   NaN     NaN   \n",
       "2                      Heavy Armor Master  140  ...   NaN     NaN   \n",
       "\n",
       "   processedRace                                    processedSpells  \\\n",
       "0          Dwarf  Alarm*1|Protection from Evil and Good*1|Comman...   \n",
       "0          Dwarf  Alarm*1|Protection from Evil and Good*1|Comman...   \n",
       "1          Dwarf  Alarm*1|Protection from Evil and Good*1|Comman...   \n",
       "1          Dwarf  Alarm*1|Protection from Evil and Good*1|Comman...   \n",
       "2          Human  Prestidigitation*0|Mage Hand*0|Blade Ward*0|Li...   \n",
       "\n",
       "                        processedWeapons            alias  justClass_expanded  \\\n",
       "0                 Crossbow, Light|Dagger  thirsty_davinci            Sorcerer   \n",
       "0                 Crossbow, Light|Dagger  thirsty_davinci              Cleric   \n",
       "1                 Crossbow, Light|Dagger  thirsty_davinci            Sorcerer   \n",
       "1                 Crossbow, Light|Dagger  thirsty_davinci              Cleric   \n",
       "2  Longsword|Dagger|Crossbow, Light|Mace      cool_bhabha             Fighter   \n",
       "\n",
       "  normalized_race normalized_class   normalized_background  \n",
       "0           dwarf         sorcerer  guild member - justice  \n",
       "0           dwarf           cleric  guild member - justice  \n",
       "1           dwarf         sorcerer  guild member - justice  \n",
       "1           dwarf           cleric  guild member - justice  \n",
       "2           human          fighter                   noble  \n",
       "\n",
       "[5 rows x 36 columns]"
      ]
     },
     "execution_count": 5,
     "metadata": {},
     "output_type": "execute_result"
    }
   ],
   "source": [
    "cdf = df.dropna(subset=[\"justClass\", \"race\", \"processedRace\"]).copy()\n",
    "cdf[\"justClass_expanded\"] = cdf[\"justClass\"].str.split(\"|\")\n",
    "cdf_expand = cdf.explode(\"justClass_expanded\")\n",
    "cdf_expand[\"normalized_race\"] = cdf_expand[\"processedRace\"].str.strip().str.lower()\n",
    "cdf_expand[\"normalized_class\"] = cdf_expand[\"justClass_expanded\"].str.strip().str.lower()\n",
    "cdf_expand[\"normalized_background\"] = cdf_expand[\"background\"].str.strip().str.lower()\n",
    "cdf_expand.head()"
   ]
  },
  {
   "cell_type": "code",
   "execution_count": 21,
   "id": "e4a70a1a",
   "metadata": {},
   "outputs": [],
   "source": [
    "import matplotlib.pyplot as plt"
   ]
  },
  {
   "cell_type": "code",
   "execution_count": null,
   "id": "3001a477",
   "metadata": {},
   "outputs": [],
   "source": [
    "\n",
    "race_counts = cdf_expand[\"normalized_race\"].value_counts()\n",
    "races_to_keep = race_counts[race_counts > 100].index\n",
    "pivot_table = pd.crosstab(cdf_expand[\"normalized_race\"], cdf_expand[\"normalized_class\"])\n",
    "pivot_table_clean = pivot_table.loc[races_to_keep]\n",
    "pivot_table_clean.T.plot(kind='bar', stacked=True, figsize=(14, 6))\n",
    "plt.title(\"Race Distribution per Class\")\n",
    "plt.xlabel(\"Class\")\n",
    "plt.ylabel(\"Number of Characters\")\n",
    "plt.legend(title='Race', bbox_to_anchor=(1.05, 1), loc='upper left')\n",
    "plt.tight_layout()\n",
    "plt.show()"
   ]
  },
  {
   "cell_type": "code",
   "execution_count": 78,
   "id": "a235dede",
   "metadata": {},
   "outputs": [],
   "source": [
    "from sklearn.preprocessing import OneHotEncoder, StandardScaler, LabelEncoder\n",
    "from sklearn.model_selection  import train_test_split, cross_val_score, cross_val_predict, GridSearchCV\n",
    "from sklearn.linear_model import LogisticRegression\n",
    "from sklearn.metrics import accuracy_score, classification_report, confusion_matrix\n",
    "from sklearn.compose import ColumnTransformer\n",
    "from sklearn.dummy import DummyClassifier\n",
    "from sklearn.ensemble import RandomForestClassifier"
   ]
  },
  {
   "cell_type": "code",
   "execution_count": 65,
   "id": "1e5fb6df",
   "metadata": {},
   "outputs": [],
   "source": [
    "column_transformer = ColumnTransformer(transformers=[\n",
    "    (\"cat\", OneHotEncoder(sparse_output=False), [\"normalized_race\", \"normalized_background\", \"good\", \"lawful\", \"countryCode\"]),\n",
    "    (\"num\", StandardScaler(), ['Str', 'Dex', 'Con', 'Int', 'Wis', 'Cha'])\n",
    "])\n",
    "classifier_target = cdf_expand[\"normalized_class\"]\n",
    "classifier_features = cdf_expand[[\"normalized_race\", \"normalized_background\", \"good\", \"lawful\", \"countryCode\", 'Str', 'Dex', 'Con', 'Int', 'Wis', 'Cha']]\n",
    "counts = classifier_target.value_counts()\n",
    "min_samples = 50\n",
    "frequent_classes = counts[counts >= min_samples].index\n",
    "mask = classifier_target.isin(frequent_classes)\n",
    "classifier_target_filtered = classifier_target[mask]\n",
    "classifier_features_filtered = classifier_features[mask]"
   ]
  },
  {
   "cell_type": "code",
   "execution_count": 82,
   "id": "7be46d61",
   "metadata": {},
   "outputs": [
    {
     "name": "stdout",
     "output_type": "stream",
     "text": [
      "Dummy Classifier:\n",
      "Classification Report:\n",
      "               precision    recall  f1-score   support\n",
      "\n",
      "           0       0.87      1.00      0.93      1968\n",
      "           1       0.00      0.00      0.00       292\n",
      "\n",
      "    accuracy                           0.87      2260\n",
      "   macro avg       0.44      0.50      0.47      2260\n",
      "weighted avg       0.76      0.87      0.81      2260\n",
      "\n",
      "Confusion Matrix:\n",
      " [[1968    0]\n",
      " [ 292    0]]\n"
     ]
    },
    {
     "name": "stderr",
     "output_type": "stream",
     "text": [
      "/home/arst/RiderProjects/data-experiments/classification/venv/lib/python3.12/site-packages/sklearn/metrics/_classification.py:1706: UndefinedMetricWarning: Precision is ill-defined and being set to 0.0 in labels with no predicted samples. Use `zero_division` parameter to control this behavior.\n",
      "  _warn_prf(average, modifier, f\"{metric.capitalize()} is\", result.shape[0])\n",
      "/home/arst/RiderProjects/data-experiments/classification/venv/lib/python3.12/site-packages/sklearn/metrics/_classification.py:1706: UndefinedMetricWarning: Precision is ill-defined and being set to 0.0 in labels with no predicted samples. Use `zero_division` parameter to control this behavior.\n",
      "  _warn_prf(average, modifier, f\"{metric.capitalize()} is\", result.shape[0])\n",
      "/home/arst/RiderProjects/data-experiments/classification/venv/lib/python3.12/site-packages/sklearn/metrics/_classification.py:1706: UndefinedMetricWarning: Precision is ill-defined and being set to 0.0 in labels with no predicted samples. Use `zero_division` parameter to control this behavior.\n",
      "  _warn_prf(average, modifier, f\"{metric.capitalize()} is\", result.shape[0])\n"
     ]
    },
    {
     "name": "stdout",
     "output_type": "stream",
     "text": [
      "Unbanalced Logistic Regression:\n",
      "Classification Report:\n",
      "               precision    recall  f1-score   support\n",
      "\n",
      "           0       0.90      0.98      0.94      1968\n",
      "           1       0.71      0.30      0.43       292\n",
      "\n",
      "    accuracy                           0.89      2260\n",
      "   macro avg       0.81      0.64      0.68      2260\n",
      "weighted avg       0.88      0.89      0.87      2260\n",
      "\n",
      "Confusion Matrix:\n",
      " [[1931   37]\n",
      " [ 203   89]]\n",
      "Banalced Logistic Regression:\n",
      "Classification Report:\n",
      "               precision    recall  f1-score   support\n",
      "\n",
      "           0       0.97      0.76      0.85      1968\n",
      "           1       0.34      0.82      0.48       292\n",
      "\n",
      "    accuracy                           0.77      2260\n",
      "   macro avg       0.65      0.79      0.67      2260\n",
      "weighted avg       0.89      0.77      0.80      2260\n",
      "\n",
      "Confusion Matrix:\n",
      " [[1501  467]\n",
      " [  52  240]]\n",
      "Unbalanced Random Forest:\n",
      "Classification Report:\n",
      "               precision    recall  f1-score   support\n",
      "\n",
      "           0       0.92      0.98      0.95      1968\n",
      "           1       0.74      0.40      0.52       292\n",
      "\n",
      "    accuracy                           0.90      2260\n",
      "   macro avg       0.83      0.69      0.73      2260\n",
      "weighted avg       0.89      0.90      0.89      2260\n",
      "\n",
      "Confusion Matrix:\n",
      " [[1926   42]\n",
      " [ 174  118]]\n",
      "Balanced Random Forest:\n",
      "Classification Report:\n",
      "               precision    recall  f1-score   support\n",
      "\n",
      "           0       0.93      0.97      0.95      1968\n",
      "           1       0.70      0.49      0.57       292\n",
      "\n",
      "    accuracy                           0.91      2260\n",
      "   macro avg       0.81      0.73      0.76      2260\n",
      "weighted avg       0.90      0.91      0.90      2260\n",
      "\n",
      "Confusion Matrix:\n",
      " [[1907   61]\n",
      " [ 150  142]]\n"
     ]
    }
   ],
   "source": [
    "#binary classifier for fighter vs non-fighter\n",
    "_binary_classifier_target = (classifier_target_filtered == \"fighter\").astype(int)\n",
    "\n",
    "classifier_encoded_features = column_transformer.fit_transform(classifier_features_filtered)\n",
    "classifier_encoded_features_df = pd.DataFrame(classifier_encoded_features, columns=column_transformer.get_feature_names_out(classifier_features.columns))\n",
    "X_train, X_test, y_train, y_test = train_test_split(classifier_encoded_features_df, _binary_classifier_target, test_size=0.2, random_state=42)\n",
    "\n",
    "dummy_classifier = DummyClassifier(strategy=\"most_frequent\")\n",
    "dummy_classifier.fit(X_train, y_train)\n",
    "dummy_predictions = dummy_classifier.predict(X_test)\n",
    "print(\"Dummy Classifier:\")\n",
    "print(\"Classification Report:\\n\", classification_report(y_test, dummy_predictions))\n",
    "confusion = confusion_matrix(y_test, dummy_predictions)\n",
    "print(\"Confusion Matrix:\\n\", confusion)\n",
    "\n",
    "unbalanced_logistic_classifier = LogisticRegression(max_iter=1000, random_state=42)\n",
    "unbalanced_logistic_classifier.fit(X_train, y_train)\n",
    "logistic_predictions = unbalanced_logistic_classifier.predict(X_test)\n",
    "print(\"Unbanalced Logistic Regression:\")\n",
    "print(\"Classification Report:\\n\", classification_report(y_test, logistic_predictions))\n",
    "confusion = confusion_matrix(y_test, logistic_predictions)\n",
    "print(\"Confusion Matrix:\\n\", confusion)\n",
    "\n",
    "\n",
    "balanced_logistic_classifier = LogisticRegression(max_iter=1000, class_weight='balanced', random_state=42)\n",
    "balanced_logistic_classifier.fit(X_train, y_train)\n",
    "logistic_predictions = balanced_logistic_classifier.predict(X_test)\n",
    "print(\"Banalced Logistic Regression:\")\n",
    "print(\"Classification Report:\\n\", classification_report(y_test, logistic_predictions))\n",
    "confusion = confusion_matrix(y_test, logistic_predictions)\n",
    "print(\"Confusion Matrix:\\n\", confusion)\n",
    "\n",
    "\n",
    "rf_unbalanced = RandomForestClassifier(\n",
    "    n_estimators=100, \n",
    "    random_state=42\n",
    ")\n",
    "rf_unbalanced.fit(X_train, y_train)\n",
    "rf_predictions = rf_unbalanced.predict(X_test)\n",
    "\n",
    "print(\"Unbalanced Random Forest:\")\n",
    "print(\"Classification Report:\\n\", classification_report(y_test, rf_predictions))\n",
    "confusion = confusion_matrix(y_test, rf_predictions)\n",
    "print(\"Confusion Matrix:\\n\", confusion)\n",
    "\n",
    "\n",
    "rf_balanced = RandomForestClassifier(\n",
    "    n_estimators=100, \n",
    "    random_state=42, \n",
    "    class_weight='balanced'\n",
    ")\n",
    "rf_balanced.fit(X_train, y_train)\n",
    "rf_predictions = rf_balanced.predict(X_test)\n",
    "\n",
    "print(\"Balanced Random Forest:\")\n",
    "print(\"Classification Report:\\n\", classification_report(y_test, rf_predictions))\n",
    "confusion = confusion_matrix(y_test, rf_predictions)\n",
    "print(\"Confusion Matrix:\\n\", confusion)"
   ]
  },
  {
   "cell_type": "code",
   "execution_count": null,
   "id": "85e8705e",
   "metadata": {},
   "outputs": [],
   "source": [
    "label_encoder = LabelEncoder()\n",
    "\n",
    "\n",
    "\n",
    "classifier_features = cdf_expand[[\"normalized_race\", \"normalized_background\", \"good\", \"lawful\", \"countryCode\", 'Str', 'Dex', 'Con', 'Int', 'Wis', 'Cha']]\n",
    "counts = classifier_target.value_counts()\n",
    "min_samples = 50\n",
    "frequent_classes = counts[counts >= min_samples].index\n",
    "mask = classifier_target.isin(frequent_classes)\n",
    "classifier_target_filtered = classifier_target[mask]\n",
    "classifier_features_filtered = classifier_features[mask]\n",
    "\n",
    "classifier_target_encoded = label_encoder.fit_transform(classifier_target_filtered)\n",
    "classifier_encoded_features = column_transformer.fit_transform(classifier_features_filtered)\n",
    "classifier_encoded_features_df = pd.DataFrame(classifier_encoded_features, columns=column_transformer.get_feature_names_out(classifier_features.columns))\n",
    "X_train, X_test, y_train, y_test = train_test_split(classifier_encoded_features_df, classifier_target_encoded, test_size=0.2, random_state=42)"
   ]
  },
  {
   "cell_type": "code",
   "execution_count": 52,
   "id": "7f2c6290",
   "metadata": {},
   "outputs": [
    {
     "name": "stdout",
     "output_type": "stream",
     "text": [
      "Original classes: 13\n",
      "After filtering: 13\n",
      "Samples removed: 84\n"
     ]
    },
    {
     "data": {
      "text/plain": [
       "normalized_class\n",
       "fighter      13.551071\n",
       "rogue        12.108338\n",
       "cleric        9.152062\n",
       "barbarian     8.629846\n",
       "paladin       7.912905\n",
       "wizard        6.939281\n",
       "ranger        6.868472\n",
       "bard          6.691450\n",
       "warlock       6.647194\n",
       "druid         6.594087\n",
       "monk          6.558683\n",
       "sorcerer      6.346256\n",
       "artificer     2.000354\n",
       "Name: proportion, dtype: float64"
      ]
     },
     "execution_count": 52,
     "metadata": {},
     "output_type": "execute_result"
    }
   ],
   "source": [
    "print(f\"Original classes: {classifier_target_filtered.nunique()}\")\n",
    "print(f\"After filtering: {classifier_target_filtered.nunique()}\")\n",
    "print(f\"Samples removed: {len(classifier_target) - len(classifier_target_filtered)}\")\n",
    "\n",
    "classifier_target_filtered.value_counts(normalize=True) * 100"
   ]
  },
  {
   "cell_type": "code",
   "execution_count": 53,
   "id": "50f2af41",
   "metadata": {},
   "outputs": [
    {
     "name": "stdout",
     "output_type": "stream",
     "text": [
      "Imbalance ratio: 6.77 (1.0 = perfectly balanced)\n"
     ]
    }
   ],
   "source": [
    "counts = classifier_target_filtered.value_counts()\n",
    "max_count = counts.max()\n",
    "min_count = counts.min()\n",
    "imbalance_ratio = max_count / min_count\n",
    "print(f\"Imbalance ratio: {imbalance_ratio:.2f} (1.0 = perfectly balanced)\")"
   ]
  },
  {
   "cell_type": "code",
   "execution_count": 54,
   "id": "b4db56a7",
   "metadata": {},
   "outputs": [
    {
     "data": {
      "image/png": "[encoded data removed]",
      "text/plain": [
       "<Figure size 1200x600 with 1 Axes>"
      ]
     },
     "metadata": {},
     "output_type": "display_data"
    }
   ],
   "source": [
    "plt.figure(figsize=(12, 6))\n",
    "classifier_target.value_counts().plot(kind='bar')\n",
    "plt.title('Distribution of Classes')\n",
    "plt.xlabel('Class')\n",
    "plt.ylabel('Count')\n",
    "plt.xticks(rotation=45)\n",
    "plt.tight_layout()\n",
    "plt.show()"
   ]
  },
  {
   "cell_type": "code",
   "execution_count": 62,
   "id": "627d9aef",
   "metadata": {},
   "outputs": [
    {
     "data": {
      "text/plain": [
       "np.float64(0.13708782463477823)"
      ]
     },
     "execution_count": 62,
     "metadata": {},
     "output_type": "execute_result"
    }
   ],
   "source": [
    "#baseline\n",
    "dummy_classifier = DummyClassifier(strategy='most_frequent')\n",
    "dummy_classifier.fit(X_train, y_train)\n",
    "cross_val_score(dummy_classifier, X_train, y_train, cv=5, scoring='accuracy').mean()"
   ]
  },
  {
   "cell_type": "code",
   "execution_count": 64,
   "id": "21ec8711",
   "metadata": {},
   "outputs": [
    {
     "name": "stdout",
     "output_type": "stream",
     "text": [
      "Classification Report:\n",
      "              precision    recall  f1-score   support\n",
      "\n",
      "   artificer       0.55      0.38      0.45       176\n",
      "   barbarian       0.54      0.53      0.53       769\n",
      "        bard       0.44      0.46      0.45       602\n",
      "      cleric       0.61      0.70      0.65       819\n",
      "       druid       0.57      0.43      0.49       597\n",
      "     fighter       0.47      0.39      0.43      1239\n",
      "        monk       0.41      0.33      0.36       601\n",
      "     paladin       0.50      0.72      0.59       725\n",
      "      ranger       0.39      0.34      0.36       634\n",
      "       rogue       0.47      0.65      0.55      1107\n",
      "    sorcerer       0.43      0.30      0.36       563\n",
      "     warlock       0.34      0.26      0.30       590\n",
      "      wizard       0.64      0.67      0.66       616\n",
      "\n",
      "    accuracy                           0.49      9038\n",
      "   macro avg       0.49      0.47      0.48      9038\n",
      "weighted avg       0.49      0.49      0.49      9038\n",
      "\n"
     ]
    }
   ],
   "source": [
    "from sklearn.linear_model import SGDClassifier\n",
    "sgd_classifier = SGDClassifier(random_state=42)\n",
    "\n",
    "sgd_classifier.fit(X_train, y_train)\n",
    "predictions = cross_val_predict(sgd_classifier, X_train, y_train, cv=5)\n",
    "cm = confusion_matrix(y_train, predictions)\n",
    "cm\n",
    "class_names = label_encoder.classes_\n",
    "report = classification_report(y_train, predictions, target_names=class_names)\n",
    "print(\"Classification Report:\")\n",
    "print(report)"
   ]
  },
  {
   "cell_type": "code",
   "execution_count": 59,
   "id": "bd9fa012",
   "metadata": {},
   "outputs": [
    {
     "name": "stdout",
     "output_type": "stream",
     "text": [
      "Accuracy: 0.56\n"
     ]
    },
    {
     "name": "stderr",
     "output_type": "stream",
     "text": [
      "/home/arst/RiderProjects/data-experiments/classification/venv/lib/python3.12/site-packages/sklearn/linear_model/_sag.py:348: ConvergenceWarning: The max_iter was reached which means the coef_ did not converge\n",
      "  warnings.warn(\n"
     ]
    }
   ],
   "source": [
    "\n",
    "model = LogisticRegression(max_iter=1000, solver='saga', class_weight='balanced')\n",
    "model.fit(X_train, y_train)\n",
    "predictions = model.predict(X_test)\n",
    "accuracy = accuracy_score(y_test, predictions)\n",
    "print(f\"Accuracy: {accuracy:.2f}\")"
   ]
  },
  {
   "cell_type": "code",
   "execution_count": null,
   "id": "278e0d5b",
   "metadata": {},
   "outputs": [],
   "source": [
    "classifier_encoded_features_df"
   ]
  },
  {
   "cell_type": "code",
   "execution_count": null,
   "id": "43102cab",
   "metadata": {},
   "outputs": [],
   "source": [
    "unique_classes = pd.unique(y_test)\n",
    "print(f\"Unique classes in y_test: {unique_classes}\")\n",
    "print(f\"Number of unique classes in y_test: {len(unique_classes)}\")"
   ]
  },
  {
   "cell_type": "code",
   "execution_count": 50,
   "id": "1a025775",
   "metadata": {},
   "outputs": [
    {
     "name": "stdout",
     "output_type": "stream",
     "text": [
      "Accuracy: 0.60\n"
     ]
    }
   ],
   "source": [
    "from sklearn.svm import SVC\n",
    "\n",
    "classifier = SVC()\n",
    "classifier.fit(X_train, y_train)\n",
    "\n",
    "predictions = classifier.predict(X_test)\n",
    "\n",
    "decoded_predictions = label_encoder.inverse_transform(predictions)\n",
    "\n",
    "accuracy = accuracy_score(y_test, predictions)\n",
    "print(f\"Accuracy: {accuracy:.2f}\")\n"
   ]
  }
 ],
 "metadata": {
  "kernelspec": {
   "display_name": "venv",
   "language": "python",
   "name": "python3"
  },
  "language_info": {
   "codemirror_mode": {
    "name": "ipython",
    "version": 3
   },
   "file_extension": ".py",
   "mimetype": "text/x-python",
   "name": "python",
   "nbconvert_exporter": "python",
   "pygments_lexer": "ipython3",
   "version": "3.12.3"
  }
 },
 "nbformat": 4,
 "nbformat_minor": 5
}
