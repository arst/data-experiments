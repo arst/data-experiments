{
 "cells": [
  {
   "cell_type": "code",
   "execution_count": null,
   "id": "312c8ae9-d8f6-4b2f-b95b-30d255cad242",
   "metadata": {},
   "outputs": [],
   "source": [
    "import pandas as pd"
   ]
  },
  {
   "cell_type": "code",
   "execution_count": null,
   "id": "699d7611-0289-41ef-9070-e7494041e9cf",
   "metadata": {},
   "outputs": [],
   "source": [
    "df = pd.read_csv(\"data/dnd_chars_all.tsv\", sep=\"\\t\")\n",
    "df.head()"
   ]
  },
  {
   "cell_type": "code",
   "execution_count": null,
   "id": "b8488b9e",
   "metadata": {},
   "outputs": [],
   "source": [
    "df.drop(columns=[\"ip\", \"finger\", \"hash\"], inplace=True)"
   ]
  },
  {
   "cell_type": "code",
   "execution_count": 114,
   "id": "13eb1f7d-41c9-4458-b767-54159a03aceb",
   "metadata": {},
   "outputs": [
    {
     "data": {
      "text/plain": [
       "0        10\n",
       "1        10\n",
       "2        21\n",
       "3        16\n",
       "4        16\n",
       "         ..\n",
       "10889    13\n",
       "10890    16\n",
       "10891    19\n",
       "10892    14\n",
       "10893    13\n",
       "Name: AC, Length: 10894, dtype: int64"
      ]
     },
     "execution_count": 114,
     "metadata": {},
     "output_type": "execute_result"
    }
   ],
   "source": [
    "df.head()\n",
    "df.columns\n",
    "df[\"AC\"]"
   ]
  },
  {
   "cell_type": "code",
   "execution_count": null,
   "id": "4bccd762",
   "metadata": {},
   "outputs": [],
   "source": [
    "cdf = df.dropna(subset=[\"justClass\", \"race\", \"processedRace\"]).copy()\n",
    "cdf[\"justClass_expanded\"] = cdf[\"justClass\"].str.split(\"|\")\n",
    "cdf_expand = cdf.explode(\"justClass_expanded\")\n",
    "cdf_expand[\"normalized_race\"] = cdf_expand[\"processedRace\"].str.strip().str.lower()\n",
    "cdf_expand[\"normalized_class\"] = cdf_expand[\"justClass_expanded\"].str.strip().str.lower()\n",
    "cdf_expand[\"normalized_background\"] = cdf_expand[\"background\"].str.strip().str.lower()\n",
    "cdf_expand.head()"
   ]
  },
  {
   "cell_type": "code",
   "execution_count": null,
   "id": "3994c350",
   "metadata": {},
   "outputs": [],
   "source": [
    "cdf_expand[\"processedAlignment\"].unique()"
   ]
  },
  {
   "cell_type": "code",
   "execution_count": null,
   "id": "e4a70a1a",
   "metadata": {},
   "outputs": [],
   "source": [
    "import matplotlib.pyplot as plt"
   ]
  },
  {
   "cell_type": "code",
   "execution_count": null,
   "id": "3001a477",
   "metadata": {},
   "outputs": [],
   "source": [
    "\n",
    "race_counts = cdf_expand[\"normalized_race\"].value_counts()\n",
    "races_to_keep = race_counts[race_counts > 100].index\n",
    "pivot_table = pd.crosstab(cdf_expand[\"normalized_race\"], cdf_expand[\"normalized_class\"])\n",
    "pivot_table_clean = pivot_table.loc[races_to_keep]\n",
    "pivot_table_clean.T.plot(kind='bar', stacked=True, figsize=(14, 6))\n",
    "plt.title(\"Race Distribution per Class\")\n",
    "plt.xlabel(\"Class\")\n",
    "plt.ylabel(\"Number of Characters\")\n",
    "plt.legend(title='Race', bbox_to_anchor=(1.05, 1), loc='upper left')\n",
    "plt.tight_layout()\n",
    "plt.show()"
   ]
  },
  {
   "cell_type": "code",
   "execution_count": null,
   "id": "b538c6d7",
   "metadata": {},
   "outputs": [],
   "source": [
    "cdf_expand\n",
    "\n",
    "# Take race, normalized_race, processedAlignment to predict justClass_expanded\n",
    "training_data = []\n",
    "\n",
    "len(cdf_expand[\"background\"].unique()), len(cdf_expand[\"background\"])\n",
    "\n",
    "features = cdf_expand[[\"normalized_race\", \"normalized_background\", \"processedAlignment\"]]\n",
    "target = cdf_expand[\"normalized_class\"].apply(lambda x: 1 if x == 'cleric' else 0)"
   ]
  },
  {
   "cell_type": "code",
   "execution_count": 123,
   "id": "a235dede",
   "metadata": {},
   "outputs": [],
   "source": [
    "from sklearn.preprocessing import OneHotEncoder, StandardScaler\n",
    "from sklearn.model_selection  import train_test_split, cross_val_score, GridSearchCV\n",
    "from sklearn.linear_model import LogisticRegression\n",
    "from sklearn.metrics import accuracy_score, classification_report\n",
    "from sklearn.compose import ColumnTransformer"
   ]
  },
  {
   "cell_type": "code",
   "execution_count": null,
   "id": "478c60d6",
   "metadata": {},
   "outputs": [],
   "source": [
    "encoder = OneHotEncoder(sparse_output=False)"
   ]
  },
  {
   "cell_type": "code",
   "execution_count": null,
   "id": "a538904d",
   "metadata": {},
   "outputs": [],
   "source": [
    "encoded_features = encoder.fit_transform(features)\n",
    "encoder.get_feature_names_out(features.columns)\n",
    "encoded_features_df = pd.DataFrame(encoded_features, columns=encoder.get_feature_names_out(features.columns))\n",
    "encoder.get_feature_names_out(features.columns)"
   ]
  },
  {
   "cell_type": "code",
   "execution_count": null,
   "id": "2bec5dbd",
   "metadata": {},
   "outputs": [],
   "source": [
    "X_train, X_test, y_train, y_test = train_test_split(encoded_features_df, target, test_size=0.2, random_state=42)\n",
    "model = LogisticRegression()\n",
    "model.fit(X_train, y_train)"
   ]
  },
  {
   "cell_type": "code",
   "execution_count": null,
   "id": "b114405b",
   "metadata": {},
   "outputs": [],
   "source": [
    "y_pred = model.predict(X_test)\n",
    "accuracy = accuracy_score(y_test, y_pred)\n",
    "cross_val_accuracy = cross_val_score(model, X_train, y_train, cv=5, scoring=\"accuracy\")\n",
    "print(f'Accuracy: {accuracy:.2f}')\n",
    "cross_val_accuracy"
   ]
  },
  {
   "cell_type": "code",
   "execution_count": null,
   "id": "1beee1c4",
   "metadata": {},
   "outputs": [],
   "source": [
    "from sklearn.preprocessing import LabelEncoder"
   ]
  },
  {
   "cell_type": "code",
   "execution_count": 127,
   "id": "bd9fa012",
   "metadata": {},
   "outputs": [
    {
     "name": "stderr",
     "output_type": "stream",
     "text": [
      "c:\\Projects\\Temp\\data-experiments\\classification\\venv\\Lib\\site-packages\\sklearn\\linear_model\\_logistic.py:1264: FutureWarning: 'multi_class' was deprecated in version 1.5 and will be removed in 1.7. From then on, it will always use 'multinomial'. Leave it to its default value to avoid this warning.\n",
      "  warnings.warn(\n"
     ]
    },
    {
     "name": "stdout",
     "output_type": "stream",
     "text": [
      "Accuracy: 0.52\n"
     ]
    },
    {
     "name": "stderr",
     "output_type": "stream",
     "text": [
      "c:\\Projects\\Temp\\data-experiments\\classification\\venv\\Lib\\site-packages\\sklearn\\linear_model\\_sag.py:348: ConvergenceWarning: The max_iter was reached which means the coef_ did not converge\n",
      "  warnings.warn(\n"
     ]
    }
   ],
   "source": [
    "label_encoder = LabelEncoder()\n",
    "\n",
    "column_transformer = ColumnTransformer(transformers=[\n",
    "    (\"cat\", OneHotEncoder(sparse_output=False), [\"normalized_race\", \"normalized_background\", \"good\", \"lawful\", \"countryCode\"]),\n",
    "    (\"num\", StandardScaler(), ['Str', 'Dex', 'Con', 'Int', 'Wis', 'Cha'])\n",
    "])\n",
    "\n",
    "classifier_target = cdf_expand[\"normalized_class\"]\n",
    "classifier_target_encoded = label_encoder.fit_transform(classifier_target)\n",
    "classifier_features = cdf_expand[[\"normalized_race\", \"normalized_background\", \"good\", \"lawful\", \"countryCode\", 'Str', 'Dex', 'Con', 'Int', 'Wis', 'Cha']]\n",
    "\n",
    "classifier_encoded_features = column_transformer.fit_transform(classifier_features)\n",
    "column_transformer.get_feature_names_out(classifier_features.columns)\n",
    "classifier_encoded_features_df = pd.DataFrame(classifier_encoded_features, columns=column_transformer.get_feature_names_out(classifier_features.columns))\n",
    "\n",
    "X_train, X_test, y_train, y_test = train_test_split(classifier_encoded_features_df, classifier_target_encoded, test_size=0.2, random_state=42)\n",
    "param_grid = {\n",
    "    'C': [0.01, 0.1, 1, 10, 100]\n",
    "}\n",
    "model = LogisticRegression(max_iter=100, multi_class='multinomial', solver='saga', class_weight='balanced')\n",
    "#grid_search = GridSearchCV(model, param_grid, cv=5, scoring='accuracy')\n",
    "#grid_search.fit(X_train, y_train)\n",
    "model.fit(X_train, y_train)\n",
    "\n",
    "predictions = model.predict(X_test)\n",
    "\n",
    "#print(\"Best parameters:\", grid_search.best_params_)\n",
    "\n",
    "decoded_predictions = label_encoder.inverse_transform(predictions)\n",
    "\n",
    "accuracy = accuracy_score(y_test, predictions)\n",
    "print(f\"Accuracy: {accuracy:.2f}\")\n",
    "\n",
    "#cross_val_accuracy = cross_val_score(model, X_train, y_train, cv=5, scoring=\"accuracy\")\n",
    "#cross_val_accuracy\n",
    "# Get the unique classes from the predictions\n",
    "#unique_pred_classes = pd.unique(predictions)\n",
    "\n",
    "# Filter target names to match the unique classes in predictions\n",
    "#filtered_target_names = label_encoder.inverse_transform(unique_pred_classes)\n",
    "\n",
    "#print(classification_report(y_test, predictions, target_names=filtered_target_names))\n"
   ]
  },
  {
   "cell_type": "code",
   "execution_count": null,
   "id": "278e0d5b",
   "metadata": {},
   "outputs": [],
   "source": [
    "classifier_encoded_features_df"
   ]
  },
  {
   "cell_type": "code",
   "execution_count": null,
   "id": "43102cab",
   "metadata": {},
   "outputs": [],
   "source": [
    "unique_classes = pd.unique(y_test)\n",
    "print(f\"Unique classes in y_test: {unique_classes}\")\n",
    "print(f\"Number of unique classes in y_test: {len(unique_classes)}\")"
   ]
  },
  {
   "cell_type": "code",
   "execution_count": 130,
   "id": "1a025775",
   "metadata": {},
   "outputs": [
    {
     "name": "stdout",
     "output_type": "stream",
     "text": [
      "Accuracy: 0.60\n"
     ]
    }
   ],
   "source": [
    "from sklearn.svm import SVC\n",
    "\n",
    "\n",
    "\n",
    "label_encoder = LabelEncoder()\n",
    "\n",
    "column_transformer = ColumnTransformer(transformers=[\n",
    "    (\"cat\", OneHotEncoder(sparse_output=False), [\"normalized_race\", \"normalized_background\", \"good\", \"lawful\", \"countryCode\"]),\n",
    "    (\"num\", StandardScaler(), ['Str', 'Dex', 'Con', 'Int', 'Wis', 'Cha'])\n",
    "])\n",
    "\n",
    "classifier_target = cdf_expand[\"normalized_class\"]\n",
    "classifier_target_encoded = label_encoder.fit_transform(classifier_target)\n",
    "classifier_features = cdf_expand[[\"normalized_race\", \"normalized_background\", \"good\", \"lawful\", \"countryCode\", 'Str', 'Dex', 'Con', 'Int', 'Wis', 'Cha']]\n",
    "\n",
    "classifier_encoded_features = column_transformer.fit_transform(classifier_features)\n",
    "column_transformer.get_feature_names_out(classifier_features.columns)\n",
    "classifier_encoded_features_df = pd.DataFrame(classifier_encoded_features, columns=column_transformer.get_feature_names_out(classifier_features.columns))\n",
    "\n",
    "X_train, X_test, y_train, y_test = train_test_split(classifier_encoded_features_df, classifier_target_encoded, test_size=0.2, random_state=42)\n",
    "\n",
    "classifier = SVC()\n",
    "classifier.fit(X_train, y_train)\n",
    "\n",
    "predictions = classifier.predict(X_test)\n",
    "\n",
    "decoded_predictions = label_encoder.inverse_transform(predictions)\n",
    "\n",
    "accuracy = accuracy_score(y_test, predictions)\n",
    "print(f\"Accuracy: {accuracy:.2f}\")\n",
    "\n",
    "#cross_val_accuracy = cross_val_score(model, X_train, y_train, cv=5, scoring=\"accuracy\")\n",
    "#cross_val_accuracy\n",
    "# Get the unique classes from the predictions\n",
    "#unique_pred_classes = pd.unique(predictions)\n",
    "\n",
    "# Filter target names to match the unique classes in predictions\n",
    "#filtered_target_names = label_encoder.inverse_transform(unique_pred_classes)\n",
    "\n",
    "#print(classification_report(y_test, predictions, target_names=filtered_target_names))\n"
   ]
  }
 ],
 "metadata": {
  "kernelspec": {
   "display_name": "venv",
   "language": "python",
   "name": "python3"
  },
  "language_info": {
   "codemirror_mode": {
    "name": "ipython",
    "version": 3
   },
   "file_extension": ".py",
   "mimetype": "text/x-python",
   "name": "python",
   "nbconvert_exporter": "python",
   "pygments_lexer": "ipython3",
   "version": "3.12.5"
  }
 },
 "nbformat": 4,
 "nbformat_minor": 5
}
